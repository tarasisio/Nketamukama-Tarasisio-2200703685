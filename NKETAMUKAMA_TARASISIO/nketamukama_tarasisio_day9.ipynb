{
 "cells": [
  {
   "cell_type": "code",
   "execution_count": 2,
   "metadata": {},
   "outputs": [
    {
     "name": "stdout",
     "output_type": "stream",
     "text": [
      "    number_siblings                       name  gender  age living_allowance  \\\n",
      "0                 1         Nakasujja Gertrude  female   33              NaN   \n",
      "1                 3      Arinda Asiimwe Atweta  female   23           50,000   \n",
      "2                 4        Ndjekornom Victoire    male   23           25,000   \n",
      "3                 0             KATURAMU EDGAR    male   27          500,000   \n",
      "4                 4          Abinsinguza Lasse    male   24          100,000   \n",
      "5                 4        Beingana Jim Junior    male   20           10,000   \n",
      "6                 6   Cyiza Ndoli Jean de Dieu    male   23           60,000   \n",
      "7                 8        MUSIIMENTA CISSYLYN  female   20          260,000   \n",
      "8                 2           Nakanwagu Vanesa  female   23          250,000   \n",
      "9                 9                Otim Ronald    male   25              NaN   \n",
      "10                1                  Levi Aine    male   24        1,000,000   \n",
      "11                1              NASAAZI TAKIA  female   23            2,000   \n",
      "12                5                      Alvin    male   23        2,500,000   \n",
      "13                3            MULINDWA YUSUF     male   22              NaN   \n",
      "14                2                     Hillal    male   32          150,000   \n",
      "15                9           mpairwe   lauben    male   26          760,000   \n",
      "16                4               Lutalo Allan    male   24          200,000   \n",
      "17                2                Efrata Aron  female   22          200,000   \n",
      "18                4                David Hope     male   22           35,000   \n",
      "19                1             ntegeka k pius    male   30          700,000   \n",
      "20                4            Yapyeko Rebecca  female   24          500,000   \n",
      "21                7      NKETAMUKAMA TARASISIO    male   22          600,000   \n",
      "22                3    Ampaire Stacey Nuwagaba  female   22          300,000   \n",
      "23                5            Ahaabwe Derrick    male   22          200,000   \n",
      "24                0           Ssentongo Henry     male   27              NaN   \n",
      "25                6                     Shadia  female   23           20,000   \n",
      "26                4                     Harlan    male   24          250,000   \n",
      "27                1              AMADILE MAJID    male   23              NaN   \n",
      "28                8                Nankya Elsa  female   23          120,000   \n",
      "29                2         Asiimire Patricia   female   22        1,000,000   \n",
      "30                2           Rwakasiisi Edwin    male   24          150,000   \n",
      "31                5            Ampumuza Aijuka  female   23          500,000   \n",
      "32                5         TUKWASIIBWE MARTIN    male   23          200,000   \n",
      "33                8       Olowo Omondi Philly     male   23              NaN   \n",
      "34                4  Kisembo Rodgers Bangirana    male   23          300,000   \n",
      "35                3           NIWAMANYA JAMES     male   29              NaN   \n",
      "\n",
      "    have_bf_gf                profession  daily_meals  \n",
      "0            1            Data Scientist            2  \n",
      "1            1  Machine Learning Enginer            1  \n",
      "2            0            Data Scientist            1  \n",
      "3            0  Machine Learning Enginer            2  \n",
      "4            1            Data Scientist            2  \n",
      "5            0            Data Scientist            3  \n",
      "6            0              Data Analyst            2  \n",
      "7            0  Machine Learning Enginer            3  \n",
      "8            1            Data Scientist            3  \n",
      "9            0            Data Scientist            2  \n",
      "10           0            Data Scientist            3  \n",
      "11           0              Data Analyst            1  \n",
      "12           1  Machine Learning Enginer            3  \n",
      "13           0            Data Scientist            3  \n",
      "14           0  Machine Learning Enginer            2  \n",
      "15           1  Machine Learning Enginer            3  \n",
      "16           1            Data Scientist            3  \n",
      "17           1              Data Analyst            2  \n",
      "18           0  Machine Learning Enginer            3  \n",
      "19           0            Data Scientist            3  \n",
      "20           0            Data Scientist            3  \n",
      "21           0  Machine Learning Enginer            2  \n",
      "22           0              Data Analyst            2  \n",
      "23           0            Data Scientist            2  \n",
      "24           0  Machine Learning Enginer            1  \n",
      "25           0            Data Scientist            2  \n",
      "26           0            Data Scientist            3  \n",
      "27           0              Data Analyst            2  \n",
      "28           1            Data Scientist            2  \n",
      "29           0            Data Scientist            3  \n",
      "30           1            Data Scientist            3  \n",
      "31           0            Data Scientist            2  \n",
      "32           0              Data Analyst            2  \n",
      "33           1            Data Scientist            2  \n",
      "34           0              Data Analyst            3  \n",
      "35           1  Machine Learning Enginer            1  \n"
     ]
    }
   ],
   "source": [
    "#load the bse dataset\n",
    "import pandas as pd\n",
    "import numpy as np\n",
    "data = pd.read_csv('bse_data.csv')\n",
    "print(data)"
   ]
  },
  {
   "cell_type": "code",
   "execution_count": 3,
   "metadata": {},
   "outputs": [
    {
     "name": "stdout",
     "output_type": "stream",
     "text": [
      "number_siblings     0\n",
      "name                0\n",
      "gender              0\n",
      "age                 0\n",
      "living_allowance    7\n",
      "have_bf_gf          0\n",
      "profession          0\n",
      "daily_meals         0\n",
      "dtype: int64\n"
     ]
    }
   ],
   "source": [
    "#Data cleaning\n",
    "#check for missing values again \n",
    "#import pandas as pd\n",
    "print(data.isnull().sum())"
   ]
  },
  {
   "cell_type": "code",
   "execution_count": 4,
   "metadata": {},
   "outputs": [
    {
     "name": "stdout",
     "output_type": "stream",
     "text": [
      "number_siblings     0\n",
      "name                0\n",
      "gender              0\n",
      "age                 0\n",
      "living_allowance    7\n",
      "have_bf_gf          0\n",
      "profession          0\n",
      "daily_meals         0\n",
      "dtype: int64\n"
     ]
    }
   ],
   "source": [
    "x= data.isna().sum()\n",
    "print(x)"
   ]
  },
  {
   "cell_type": "code",
   "execution_count": 5,
   "metadata": {},
   "outputs": [
    {
     "name": "stdout",
     "output_type": "stream",
     "text": [
      "   number_siblings                      name  gender  age  living_allowance  \\\n",
      "0                1        Nakasujja Gertrude  female   33          200000.0   \n",
      "1                3     Arinda Asiimwe Atweta  female   23           50000.0   \n",
      "2                4       Ndjekornom Victoire    male   23           25000.0   \n",
      "3                0            KATURAMU EDGAR    male   27          500000.0   \n",
      "4                4         Abinsinguza Lasse    male   24          100000.0   \n",
      "5                4       Beingana Jim Junior    male   20           10000.0   \n",
      "6                6  Cyiza Ndoli Jean de Dieu    male   23           60000.0   \n",
      "7                8       MUSIIMENTA CISSYLYN  female   20          260000.0   \n",
      "\n",
      "   have_bf_gf                profession  daily_meals  \n",
      "0           1            Data Scientist            2  \n",
      "1           1  Machine Learning Enginer            1  \n",
      "2           0            Data Scientist            1  \n",
      "3           0  Machine Learning Enginer            2  \n",
      "4           1            Data Scientist            2  \n",
      "5           0            Data Scientist            3  \n",
      "6           0              Data Analyst            2  \n",
      "7           0  Machine Learning Enginer            3  \n"
     ]
    },
    {
     "name": "stderr",
     "output_type": "stream",
     "text": [
      "C:\\Users\\Taras\\AppData\\Local\\Temp\\ipykernel_11832\\1974480173.py:14: FutureWarning: A value is trying to be set on a copy of a DataFrame or Series through chained assignment using an inplace method.\n",
      "The behavior will change in pandas 3.0. This inplace method will never work because the intermediate object on which we are setting values always behaves as a copy.\n",
      "\n",
      "For example, when doing 'df[col].method(value, inplace=True)', try using 'df.method({col: value}, inplace=True)' or df[col] = df[col].method(value) instead, to perform the operation inplace on the original object.\n",
      "\n",
      "\n",
      "  data['living_allowance'].fillna(median_value, inplace=True)\n"
     ]
    }
   ],
   "source": [
    "import pandas as pd\n",
    "\n",
    "# Read the CSV file\n",
    "data = pd.read_csv('bse_data.csv')\n",
    "\n",
    "# Remove commas and convert to numeric\n",
    "data['living_allowance'] = data['living_allowance'].str.replace(',', '')\n",
    "data['living_allowance'] = pd.to_numeric(data['living_allowance'], errors='coerce')\n",
    "\n",
    "# Calculate the median of the living_allowance column\n",
    "median_value = data['living_allowance'].median()\n",
    "\n",
    "# Fill NaN values with the median\n",
    "data['living_allowance'].fillna(median_value, inplace=True)\n",
    "\n",
    "# Print the first 8 rows of the dataframe\n",
    "print(data.head(8))"
   ]
  },
  {
   "cell_type": "code",
   "execution_count": 8,
   "metadata": {},
   "outputs": [
    {
     "ename": "ModuleNotFoundError",
     "evalue": "No module named 'matplotlib'",
     "output_type": "error",
     "traceback": [
      "\u001b[1;31m---------------------------------------------------------------------------\u001b[0m",
      "\u001b[1;31mModuleNotFoundError\u001b[0m                       Traceback (most recent call last)",
      "Cell \u001b[1;32mIn[8], line 1\u001b[0m\n\u001b[1;32m----> 1\u001b[0m \u001b[38;5;28;01mimport\u001b[39;00m \u001b[38;5;21;01mmatplotlib\u001b[39;00m\u001b[38;5;21;01m.\u001b[39;00m\u001b[38;5;21;01mpyplot\u001b[39;00m \u001b[38;5;28;01mas\u001b[39;00m \u001b[38;5;21;01mplt\u001b[39;00m \u001b[38;5;66;03m# type: ignore\u001b[39;00m\n\u001b[0;32m      2\u001b[0m \u001b[38;5;66;03m# siblings\u001b[39;00m\n\u001b[0;32m      4\u001b[0m siblings_counts \u001b[38;5;241m=\u001b[39m data[\u001b[38;5;124m'\u001b[39m\u001b[38;5;124mnumber_siblings\u001b[39m\u001b[38;5;124m'\u001b[39m]\u001b[38;5;241m.\u001b[39mvalue_counts()\n",
      "\u001b[1;31mModuleNotFoundError\u001b[0m: No module named 'matplotlib'"
     ]
    }
   ],
   "source": [
    "import matplotlib.pyplot as plt # type: ignore\n",
    "# siblings\n",
    "\n",
    "siblings_counts = data['number_siblings'].value_counts()\n",
    "# Create a pie chart\n",
    "# plt.figure(figsize=(9, 9))\n",
    "plt.pie(siblings_counts, labels=siblings_counts.index, autopct='%1.1f%%', startangle=140)\n",
    "plt.title('Distribution of Number of Siblings')\n",
    "plt.axis('equal')\n",
    "plt.show()"
   ]
  },
  {
   "cell_type": "code",
   "execution_count": null,
   "metadata": {},
   "outputs": [
    {
     "ename": "",
     "evalue": "",
     "output_type": "error",
     "traceback": [
      "\u001b[1;31mFailed to start the Kernel. \n",
      "\u001b[1;31mUnable to start Kernel 'Python 3.12.4' due to a timeout waiting for the ports to get used. \n",
      "\u001b[1;31mView Jupyter <a href='command:jupyter.viewOutput'>log</a> for further details."
     ]
    }
   ],
   "source": [
    "import pandas as pd\n",
    "import numpy as np\n",
    "data=pd.read_csv('crop.csv')\n",
    "print(data)"
   ]
  },
  {
   "cell_type": "code",
   "execution_count": null,
   "metadata": {},
   "outputs": [
    {
     "ename": "",
     "evalue": "",
     "output_type": "error",
     "traceback": [
      "\u001b[1;31mFailed to start the Kernel. \n",
      "\u001b[1;31mUnable to start Kernel 'Python 3.12.4' due to a timeout waiting for the ports to get used. \n",
      "\u001b[1;31mView Jupyter <a href='command:jupyter.viewOutput'>log</a> for further details."
     ]
    }
   ],
   "source": [
    "#crop analysis\n",
    "print(data.isnull().sum())"
   ]
  },
  {
   "cell_type": "code",
   "execution_count": null,
   "metadata": {},
   "outputs": [
    {
     "ename": "",
     "evalue": "",
     "output_type": "error",
     "traceback": [
      "\u001b[1;31mFailed to start the Kernel. \n",
      "\u001b[1;31mUnable to start Kernel 'Python 3.12.4' due to a timeout waiting for the ports to get used. \n",
      "\u001b[1;31mView Jupyter <a href='command:jupyter.viewOutput'>log</a> for further details."
     ]
    }
   ],
   "source": [
    "#Summary statistics\n",
    "#Explanatory data analysis\n",
    "print(data.describe())"
   ]
  },
  {
   "cell_type": "code",
   "execution_count": null,
   "metadata": {},
   "outputs": [
    {
     "ename": "",
     "evalue": "",
     "output_type": "error",
     "traceback": [
      "\u001b[1;31mFailed to start the Kernel. \n",
      "\u001b[1;31mUnable to start Kernel 'Python 3.12.4' due to a timeout waiting for the ports to get used. \n",
      "\u001b[1;31mView Jupyter <a href='command:jupyter.viewOutput'>log</a> for further details."
     ]
    }
   ],
   "source": [
    "#check for nul missing values\n",
    "import seaborn as sns\n",
    "sns.heatmap(data.isnull(),yticklabels=False,cbar=False,cmap='viridis')"
   ]
  },
  {
   "cell_type": "code",
   "execution_count": null,
   "metadata": {},
   "outputs": [
    {
     "ename": "",
     "evalue": "",
     "output_type": "error",
     "traceback": [
      "\u001b[1;31mFailed to start the Kernel. \n",
      "\u001b[1;31mUnable to start Kernel 'Python 3.12.4' due to a timeout waiting for the ports to get used. \n",
      "\u001b[1;31mView Jupyter <a href='command:jupyter.viewOutput'>log</a> for further details."
     ]
    }
   ],
   "source": [
    "print(data['temperature'].value_counts())"
   ]
  },
  {
   "cell_type": "code",
   "execution_count": null,
   "metadata": {},
   "outputs": [
    {
     "ename": "",
     "evalue": "",
     "output_type": "error",
     "traceback": [
      "\u001b[1;31mFailed to start the Kernel. \n",
      "\u001b[1;31mUnable to start Kernel 'Python 3.12.4' due to a timeout waiting for the ports to get used. \n",
      "\u001b[1;31mView Jupyter <a href='command:jupyter.viewOutput'>log</a> for further details."
     ]
    }
   ],
   "source": [
    "\n",
    "import matplotlib.pyplot as plt\n",
    "\n",
    "sns.histplot(data['temperature'],color='pink',bins=30,kde=True)\n",
    "plt.title('temperature distribution')\n",
    "plt.show()"
   ]
  },
  {
   "cell_type": "code",
   "execution_count": null,
   "metadata": {},
   "outputs": [
    {
     "ename": "",
     "evalue": "",
     "output_type": "error",
     "traceback": [
      "\u001b[1;31mFailed to start the Kernel. \n",
      "\u001b[1;31mUnable to start Kernel 'Python 3.12.4' due to a timeout waiting for the ports to get used. \n",
      "\u001b[1;31mView Jupyter <a href='command:jupyter.viewOutput'>log</a> for further details."
     ]
    }
   ],
   "source": [
    "#method 2\n",
    "#N is the nitrogen\n",
    "#k is the Potasium\n",
    "#p \n",
    "sns.heatmap(data.isnull(),cmap='coolwarm')\n",
    "plt.show()"
   ]
  },
  {
   "cell_type": "code",
   "execution_count": null,
   "metadata": {},
   "outputs": [
    {
     "ename": "",
     "evalue": "",
     "output_type": "error",
     "traceback": [
      "\u001b[1;31mFailed to start the Kernel. \n",
      "\u001b[1;31mUnable to start Kernel 'Python 3.12.4' due to a timeout waiting for the ports to get used. \n",
      "\u001b[1;31mView Jupyter <a href='command:jupyter.viewOutput'>log</a> for further details."
     ]
    }
   ],
   "source": [
    "# Correlation, relationship between columns\n",
    "c =data.label.astype('category')\n",
    "targets = dict(enumerate(c.cat.categories))\n",
    "data['target'] = c.cat.codes\n",
    "\n",
    "y = data.target\n",
    "X = data[['N', 'P', 'temperature','humidity','ph','rainfall']]\n",
    "\n",
    "sns.heatmap(X.corr())\n",
    "plt.title(\"Correlation\")\n",
    "plt.show()"
   ]
  },
  {
   "cell_type": "code",
   "execution_count": null,
   "metadata": {},
   "outputs": [
    {
     "ename": "",
     "evalue": "",
     "output_type": "error",
     "traceback": [
      "\u001b[1;31mFailed to start the Kernel. \n",
      "\u001b[1;31mUnable to start Kernel 'Python 3.12.4' due to a timeout waiting for the ports to get used. \n",
      "\u001b[1;31mView Jupyter <a href='command:jupyter.viewOutput'>log</a> for further details."
     ]
    }
   ],
   "source": [
    "#Phosphorous level\n",
    "sns.boxplot(y='label',x='ph',data=data, palette='plasma_r')\n",
    "plt.title('phosphorous level')\n",
    "plt.show()"
   ]
  },
  {
   "cell_type": "code",
   "execution_count": null,
   "metadata": {},
   "outputs": [
    {
     "ename": "",
     "evalue": "",
     "output_type": "error",
     "traceback": [
      "\u001b[1;31mFailed to start the Kernel. \n",
      "\u001b[1;31mUnable to start Kernel 'Python 3.12.4' due to a timeout waiting for the ports to get used. \n",
      "\u001b[1;31mView Jupyter <a href='command:jupyter.viewOutput'>log</a> for further details."
     ]
    }
   ],
   "source": [
    "import pandas as pd\n",
    "#Phosphorous level\n",
    "sns.boxplot(x='label',y='ph',data=data, palette='plasma_r')\n",
    "plt.title('phosphorous level')\n",
    "plt.show()"
   ]
  },
  {
   "cell_type": "code",
   "execution_count": null,
   "metadata": {},
   "outputs": [
    {
     "ename": "",
     "evalue": "",
     "output_type": "error",
     "traceback": [
      "\u001b[1;31mFailed to start the Kernel. \n",
      "\u001b[1;31mUnable to start Kernel 'Python 3.12.4' due to a timeout waiting for the ports to get used. \n",
      "\u001b[1;31mView Jupyter <a href='command:jupyter.viewOutput'>log</a> for further details."
     ]
    }
   ],
   "source": [
    "#Phosphorous level\n",
    "sns.boxplot(x='label',y='ph',data=data[data['rainfall']>150])\n",
    "plt.title('phosphorous level')\n",
    "plt.show()\n"
   ]
  },
  {
   "cell_type": "code",
   "execution_count": null,
   "metadata": {},
   "outputs": [
    {
     "ename": "",
     "evalue": "",
     "output_type": "error",
     "traceback": [
      "\u001b[1;31mFailed to start the Kernel. \n",
      "\u001b[1;31mUnable to start Kernel 'Python 3.12.4' due to a timeout waiting for the ports to get used. \n",
      "\u001b[1;31mView Jupyter <a href='command:jupyter.viewOutput'>log</a> for further details."
     ]
    }
   ],
   "source": [
    "\n",
    "sns.countplot(y='label',data=data)\n",
    "plt.title('label distribution')\n",
    "plt.show()"
   ]
  },
  {
   "cell_type": "code",
   "execution_count": null,
   "metadata": {},
   "outputs": [
    {
     "ename": "",
     "evalue": "",
     "output_type": "error",
     "traceback": [
      "\u001b[1;31mFailed to start the Kernel. \n",
      "\u001b[1;31mUnable to start Kernel 'Python 3.12.4' due to a timeout waiting for the ports to get used. \n",
      "\u001b[1;31mView Jupyter <a href='command:jupyter.viewOutput'>log</a> for further details."
     ]
    }
   ],
   "source": [
    "#Data Visualization:Visualization helps to gain more insights from the data\n",
    "import seaborn as sns\n",
    "import matplotlib.pyplot as plt\n",
    "#have bf gf by gender\n",
    "sns.barplot(x='gender',y='have_bf_gf',data=data)\n",
    "\n"
   ]
  },
  {
   "cell_type": "code",
   "execution_count": null,
   "metadata": {},
   "outputs": [
    {
     "ename": "",
     "evalue": "",
     "output_type": "error",
     "traceback": [
      "\u001b[1;31mFailed to start the Kernel. \n",
      "\u001b[1;31mUnable to start Kernel 'Python 3.12.4' due to a timeout waiting for the ports to get used. \n",
      "\u001b[1;31mView Jupyter <a href='command:jupyter.viewOutput'>log</a> for further details."
     ]
    }
   ],
   "source": [
    "data['living_allowance'] = data['living_allowance'].fillna(data['living_allowance'].mode())\n",
    "\n",
    "print(data.head(5))"
   ]
  },
  {
   "cell_type": "code",
   "execution_count": 1,
   "metadata": {},
   "outputs": [
    {
     "ename": "NameError",
     "evalue": "name 'data' is not defined",
     "output_type": "error",
     "traceback": [
      "\u001b[1;31m---------------------------------------------------------------------------\u001b[0m",
      "\u001b[1;31mNameError\u001b[0m                                 Traceback (most recent call last)",
      "Cell \u001b[1;32mIn[1], line 2\u001b[0m\n\u001b[0;32m      1\u001b[0m \u001b[38;5;66;03m#Distribution of professional\u001b[39;00m\n\u001b[1;32m----> 2\u001b[0m \u001b[38;5;28mprint\u001b[39m(\u001b[43mdata\u001b[49m[\u001b[38;5;124m'\u001b[39m\u001b[38;5;124mprofession\u001b[39m\u001b[38;5;124m'\u001b[39m])\n",
      "\u001b[1;31mNameError\u001b[0m: name 'data' is not defined"
     ]
    }
   ],
   "source": [
    "#Distribution of professional\n",
    "print(data['profession'])"
   ]
  }
 ],
 "metadata": {
  "kernelspec": {
   "display_name": "Python 3",
   "language": "python",
   "name": "python3"
  },
  "language_info": {
   "codemirror_mode": {
    "name": "ipython",
    "version": 3
   },
   "file_extension": ".py",
   "mimetype": "text/x-python",
   "name": "python",
   "nbconvert_exporter": "python",
   "pygments_lexer": "ipython3",
   "version": "3.12.4"
  }
 },
 "nbformat": 4,
 "nbformat_minor": 2
}
