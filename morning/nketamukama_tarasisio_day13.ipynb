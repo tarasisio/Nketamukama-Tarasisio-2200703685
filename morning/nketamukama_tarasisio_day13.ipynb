{
 "cells": [
  {
   "cell_type": "code",
   "execution_count": null,
   "metadata": {},
   "outputs": [],
   "source": [
    "#Import all the libraries\n",
    "import pandas as pd\n",
    "import numpy as np\n",
    "import matplotlib.pyplot as plt\n",
    "from sklearn.model_selection import train_test_split\n",
    "from sklearn.linear_model import LinearRegression\n",
    "from sklearn.preprocessing import PolynomialFeatures\n",
    "from sklearn.preprocessing import StandardScaler\n",
    "from sklearn.metrics import mean_squared_error, r2_score\n",
    "from sklearn.neighbors import KNeighborsClassifier\n",
    "from sklearn.metrics import classification_report, accuracy_score, confusion_matrix\n",
    "\n",
    "\n",
    "#Feature engineering of the data\n",
    "#Select the top 10 features\n",
    "#Data splitting(Actual and the predicted)\n",
    "\n",
    "#cross validation(you can use stratified k fold,and k-fold)\n",
    "\n",
    "#You create a variable\n",
    "# model= RandomForestClassifier()\n",
    "#cv=Stratified k-fold(n_splits=5,shuffle=True,random_state=42)\n",
    "#Scores=cross_val_score(model,X,y,cv=cv,scoring='accuracy')\n",
    "#print('Cross Validation:',scores.mean())\n",
    "\n",
    "#Training and evaluating the model\n",
    "#model=RandomForestClassifier()\n",
    "#model.fit(X_train,y_train)\n",
    "#y_pred-model.predict(X_test)\n",
    "#print('test score accuracy:',accuracy_score(y_test,y_pred))\n",
    "\n",
    "# classification accuracy of the algorithms\n",
    "from sklearn.metrics import accuracy_score, precision_score,recall_score,f1_score\n",
    "#initialize models\n",
    "# models={\n",
    "#     'logistic Regression':LogisticRegression(max_iter=1000,random_state=42),\n",
    "#     'Decision Tree':DecisionTreeClassifier(random_state=42),\n",
    "#     'Random Forest':RandomForestClassifier(random_state=42),\n",
    "#     'KNN':KNeighborsClassifier(),\n",
    "#     'SVM':SVM(probability=True,random_state=42)\n",
    "# }\n",
    "# evaluate the metrics\n",
    "# metrics={\n",
    "#     'Accuracy':accuracy_score,\n",
    "#     'Precision':precision_score,\n",
    "#     'Recall':recall_score,\n",
    "#     'F1-score':f1_score,\n",
    "#     'ROC AUC':roc_auc_score\n",
    "    \n",
    "    \n",
    "# }\n",
    "#train and evaluate the each model\n",
    "\n",
    "    \n",
    "    # calculate the metrics\n",
    "    \n"
   ]
  }
 ],
 "metadata": {
  "kernelspec": {
   "display_name": "Python 3",
   "language": "python",
   "name": "python3"
  },
  "language_info": {
   "codemirror_mode": {
    "name": "ipython",
    "version": 3
   },
   "file_extension": ".py",
   "mimetype": "text/x-python",
   "name": "python",
   "nbconvert_exporter": "python",
   "pygments_lexer": "ipython3",
   "version": "3.12.4"
  }
 },
 "nbformat": 4,
 "nbformat_minor": 2
}
